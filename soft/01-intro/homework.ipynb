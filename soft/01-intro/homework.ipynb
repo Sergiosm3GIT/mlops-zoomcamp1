{
 "cells": [
  {
   "cell_type": "code",
   "execution_count": 1,
   "id": "5a3e80cc",
   "metadata": {},
   "outputs": [],
   "source": [
    "import pandas as pd\n",
    "from sklearn.feature_extraction import DictVectorizer\n",
    "from sklearn.linear_model import LinearRegression\n",
    "from sklearn.metrics import mean_squared_error\n",
    "import numpy as np"
   ]
  },
  {
   "cell_type": "code",
   "execution_count": 2,
   "id": "64b711fe",
   "metadata": {},
   "outputs": [
    {
     "name": "stdout",
     "output_type": "stream",
     "text": [
      "Requirement already satisfied: pyarrow in /home/codespace/anaconda3/lib/python3.9/site-packages (16.1.0)\r\n",
      "Requirement already satisfied: numpy>=1.16.6 in /home/codespace/anaconda3/lib/python3.9/site-packages (from pyarrow) (1.21.5)\r\n"
     ]
    }
   ],
   "source": [
    "!pip install pyarrow"
   ]
  },
  {
   "cell_type": "code",
   "execution_count": 3,
   "id": "8fe9ec61",
   "metadata": {},
   "outputs": [],
   "source": [
    "df_yellow_202301 = pd.read_parquet('https://d37ci6vzurychx.cloudfront.net/trip-data/yellow_tripdata_2023-01.parquet')\n",
    "df_yellow_202302 = pd.read_parquet('https://d37ci6vzurychx.cloudfront.net/trip-data/yellow_tripdata_2023-02.parquet')"
   ]
  },
  {
   "cell_type": "code",
   "execution_count": 4,
   "id": "b10a52eb",
   "metadata": {},
   "outputs": [
    {
     "name": "stdout",
     "output_type": "stream",
     "text": [
      "<class 'pandas.core.frame.DataFrame'>\n",
      "Int64Index: 5980721 entries, 0 to 2913954\n",
      "Data columns (total 21 columns):\n",
      " #   Column                 Dtype         \n",
      "---  ------                 -----         \n",
      " 0   VendorID               int64         \n",
      " 1   tpep_pickup_datetime   datetime64[ns]\n",
      " 2   tpep_dropoff_datetime  datetime64[ns]\n",
      " 3   passenger_count        float64       \n",
      " 4   trip_distance          float64       \n",
      " 5   RatecodeID             float64       \n",
      " 6   store_and_fwd_flag     object        \n",
      " 7   PULocationID           int64         \n",
      " 8   DOLocationID           int64         \n",
      " 9   payment_type           int64         \n",
      " 10  fare_amount            float64       \n",
      " 11  extra                  float64       \n",
      " 12  mta_tax                float64       \n",
      " 13  tip_amount             float64       \n",
      " 14  tolls_amount           float64       \n",
      " 15  improvement_surcharge  float64       \n",
      " 16  total_amount           float64       \n",
      " 17  congestion_surcharge   float64       \n",
      " 18  airport_fee            float64       \n",
      " 19  anomes                 int64         \n",
      " 20  Airport_fee            float64       \n",
      "dtypes: datetime64[ns](2), float64(13), int64(5), object(1)\n",
      "memory usage: 1003.8+ MB\n"
     ]
    }
   ],
   "source": [
    "df_yellow = pd.concat([df_yellow_202301.assign(anomes=202301),df_yellow_202302.assign(anomes=202302)])\n",
    "df_yellow.info()"
   ]
  },
  {
   "cell_type": "code",
   "execution_count": 5,
   "id": "7b4f25b3",
   "metadata": {},
   "outputs": [],
   "source": [
    "df_yellow['duration']=(df_yellow.tpep_dropoff_datetime - df_yellow.tpep_pickup_datetime).dt.total_seconds()/60\n",
    "df_yellow['PU_DO'] = df_yellow.PULocationID.astype('str') + '_' + df_yellow.DOLocationID.astype('str')"
   ]
  },
  {
   "cell_type": "code",
   "execution_count": 6,
   "id": "417aa28b",
   "metadata": {},
   "outputs": [
    {
     "name": "stdout",
     "output_type": "stream",
     "text": [
      "19\n"
     ]
    }
   ],
   "source": [
    "## Q1\n",
    "print(len(df_yellow_202301.columns))"
   ]
  },
  {
   "cell_type": "code",
   "execution_count": 7,
   "id": "d97e5b35",
   "metadata": {},
   "outputs": [
    {
     "data": {
      "text/plain": [
       "42.594351241920904"
      ]
     },
     "execution_count": 7,
     "metadata": {},
     "output_type": "execute_result"
    }
   ],
   "source": [
    "##Q2\n",
    "df_yellow.query(\"anomes == 202301\").duration.std()"
   ]
  },
  {
   "cell_type": "code",
   "execution_count": 8,
   "id": "0000030f",
   "metadata": {},
   "outputs": [
    {
     "name": "stdout",
     "output_type": "stream",
     "text": [
      "0.9806717283752243\n"
     ]
    }
   ],
   "source": [
    "##Q3\n",
    "df_yellow_ajus = df_yellow.query(\"duration >= 1 and duration <= 60\").reset_index(drop=True)\n",
    "print(df_yellow_ajus.shape[0]/df_yellow.shape[0])\n",
    "del df_yellow"
   ]
  },
  {
   "cell_type": "code",
   "execution_count": 9,
   "id": "3bfb553b",
   "metadata": {},
   "outputs": [
    {
     "data": {
      "text/plain": [
       "<3009173x516 sparse matrix of type '<class 'numpy.float64'>'\n",
       "\twith 9027519 stored elements in Compressed Sparse Row format>"
      ]
     },
     "execution_count": 9,
     "metadata": {},
     "output_type": "execute_result"
    }
   ],
   "source": [
    "##Q4\n",
    "categorical = ['PULocationID','DOLocationID']\n",
    "numerical = ['trip_distance']\n",
    "target = ['duration']\n",
    "\n",
    "df_yellow_ajus[categorical] = df_yellow_ajus[categorical].astype('str')\n",
    "train_dicts = df_yellow_ajus.query(\"anomes == 202301\")[categorical+numerical].to_dict(orient='records')\n",
    "y_train = df_yellow_ajus.query(\"anomes == 202301\")[target].values\n",
    "#del df_yellow_ajus\n",
    "\n",
    "dv = DictVectorizer()\n",
    "x_train = dv.fit_transform(train_dicts)\n",
    "del train_dicts\n",
    "\n",
    "x_train"
   ]
  },
  {
   "cell_type": "code",
   "execution_count": 10,
   "id": "129adb08",
   "metadata": {},
   "outputs": [
    {
     "data": {
      "text/plain": [
       "7.649127185256247"
      ]
     },
     "execution_count": 10,
     "metadata": {},
     "output_type": "execute_result"
    }
   ],
   "source": [
    "##Q5\n",
    "lr = LinearRegression()\n",
    "lr.fit(x_train,y_train)\n",
    "y_pred = lr.predict(x_train)\n",
    "rmse = np.sqrt(mean_squared_error(y_pred,y_train))\n",
    "del y_pred\n",
    "rmse"
   ]
  },
  {
   "cell_type": "code",
   "execution_count": 11,
   "id": "f49bdcd1",
   "metadata": {},
   "outputs": [
    {
     "data": {
      "text/plain": [
       "7.811475010118899"
      ]
     },
     "execution_count": 11,
     "metadata": {},
     "output_type": "execute_result"
    }
   ],
   "source": [
    "##Q6\n",
    "\n",
    "test_dicts = df_yellow_ajus.query(\"anomes == 202302\")[categorical+numerical].to_dict(orient='records')\n",
    "y_test = df_yellow_ajus.query(\"anomes == 202302\")[target].values\n",
    "x_test = dv.transform(test_dicts)\n",
    "y_pred = lr.predict(x_test)\n",
    "rmse = np.sqrt(mean_squared_error(y_pred,y_test))\n",
    "rmse"
   ]
  },
  {
   "cell_type": "code",
   "execution_count": null,
   "id": "f7c290cc",
   "metadata": {},
   "outputs": [],
   "source": []
  },
  {
   "cell_type": "code",
   "execution_count": null,
   "id": "355dedeb",
   "metadata": {},
   "outputs": [],
   "source": []
  }
 ],
 "metadata": {
  "kernelspec": {
   "display_name": "Python 3 (ipykernel)",
   "language": "python",
   "name": "python3"
  },
  "language_info": {
   "codemirror_mode": {
    "name": "ipython",
    "version": 3
   },
   "file_extension": ".py",
   "mimetype": "text/x-python",
   "name": "python",
   "nbconvert_exporter": "python",
   "pygments_lexer": "ipython3",
   "version": "3.9.12"
  }
 },
 "nbformat": 4,
 "nbformat_minor": 5
}
